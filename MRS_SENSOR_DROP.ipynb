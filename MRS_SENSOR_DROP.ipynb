{
  "nbformat": 4,
  "nbformat_minor": 0,
  "metadata": {
    "colab": {
      "provenance": [],
      "authorship_tag": "ABX9TyPrzol8L+Rlf8CKKXSAvmPl",
      "include_colab_link": true
    },
    "kernelspec": {
      "name": "python3",
      "display_name": "Python 3"
    },
    "language_info": {
      "name": "python"
    }
  },
  "cells": [
    {
      "cell_type": "markdown",
      "metadata": {
        "id": "view-in-github",
        "colab_type": "text"
      },
      "source": [
        "<a href=\"https://colab.research.google.com/github/stone315/3d-simulator/blob/master/MRS_SENSOR_DROP.ipynb\" target=\"_parent\"><img src=\"https://colab.research.google.com/assets/colab-badge.svg\" alt=\"Open In Colab\"/></a>"
      ]
    },
    {
      "cell_type": "code",
      "execution_count": null,
      "metadata": {
        "id": "wQtdlR1KIQZD"
      },
      "outputs": [],
      "source": [
        "!pip install scikit-learn==1.2.2\n",
        "!pip install numpy\n",
        "!pip install pandas\n",
        "!pip install matplotlib"
      ]
    },
    {
      "cell_type": "code",
      "source": [
        "from sklearn.datasets import make_friedman2\n",
        "from sklearn.gaussian_process import GaussianProcessRegressor\n",
        "from sklearn.gaussian_process.kernels import DotProduct, WhiteKernel\n",
        "X, y = make_friedman2(n_samples=500, noise=0, random_state=0)\n",
        "kernel = DotProduct() + WhiteKernel()\n",
        "gpr = GaussianProcessRegressor(kernel=kernel,random_state=0).fit(X, y)\n",
        "gpr.score(X, y)\n",
        "gpr.predict(X[:2,:], return_std=True)"
      ],
      "metadata": {
        "id": "iUgd60zsOV2s"
      },
      "execution_count": null,
      "outputs": []
    },
    {
      "cell_type": "code",
      "source": [
        "class MSD:\n",
        "  def __init__(self):\n",
        "    self.graph = None\n",
        "    self.budget = None\n",
        "    self.pois = None\n",
        "\n",
        "  def solver(self, method=\"GP\"):\n",
        "    pass\n",
        ""
      ],
      "metadata": {
        "id": "6OCcRSwYLN0a"
      },
      "execution_count": null,
      "outputs": []
    },
    {
      "cell_type": "code",
      "source": [
        "class graph:\n",
        "   def __init__(self,gdict=None):\n",
        "      if gdict is None:\n",
        "         gdict = {}\n",
        "      self.gdict = gdict\n",
        "   def edges(self):\n",
        "      return self.findedges()\n",
        "# Add the new edge\n",
        "   def AddEdge(self, edge):\n",
        "      edge = set(edge)\n",
        "      (vrtx1, vrtx2) = tuple(edge)\n",
        "      if vrtx1 in self.gdict:\n",
        "         self.gdict[vrtx1].append(vrtx2)\n",
        "      else:\n",
        "         self.gdict[vrtx1] = [vrtx2]\n",
        "# List the edge names\n",
        "   def findedges(self):\n",
        "      edgename = []\n",
        "      for vrtx in self.gdict:\n",
        "         for nxtvrtx in self.gdict[vrtx]:\n",
        "            if {nxtvrtx, vrtx} not in edgename:\n",
        "               edgename.append({vrtx, nxtvrtx})\n",
        "        return edgename"
      ],
      "metadata": {
        "id": "QV35HBBETfGB"
      },
      "execution_count": null,
      "outputs": []
    }
  ]
}